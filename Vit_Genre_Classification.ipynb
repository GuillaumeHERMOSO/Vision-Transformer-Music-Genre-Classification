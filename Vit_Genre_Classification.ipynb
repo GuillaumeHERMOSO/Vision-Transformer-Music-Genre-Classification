{
 "cells": [
  {
   "cell_type": "markdown",
   "metadata": {},
   "source": [
    "# Music genre classification using viual transformers : VIT\n",
    "\n",
    "In this notebook, I will be using the visual transformer model to classify the music genre. The model is trained modified GTZAN dataset available on Huggingface datasets ([egtzan_plus](https://huggingface.co/datasets/ghermoso/egtzan_plus)) which contains melspectrogram generated with the `create_spectrogram` function from `create_melspectrogram.py`.\n",
    "\n",
    "This notebook is a fine-tuning example of the visual transformer model on the music genre classification task. The model is pre-trained on ImageNet-21k dataset and fine-tuned on the eGTZAN+ dataset. \n",
    "\n",
    "The model is trained using the `Trainer` API from the 🤗 Transformers library."
   ]
  },
  {
   "cell_type": "markdown",
   "metadata": {},
   "source": [
    "# Importing necessary libraries\n"
   ]
  },
  {
   "cell_type": "code",
   "execution_count": null,
   "metadata": {},
   "outputs": [],
   "source": [
    "import torch\n",
    "from transformers import (\n",
    "    ViTImageProcessor,\n",
    "    ViTForImageClassification,\n",
    "    TrainingArguments,\n",
    "    Trainer,\n",
    ")\n",
    "from datasets import load_dataset\n",
    "from PIL import Image\n",
    "import numpy as np\n",
    "from datasets import load_metric\n",
    "from transformers import pipeline\n",
    "from huggingface_hub import notebook_login"
   ]
  },
  {
   "cell_type": "markdown",
   "metadata": {},
   "source": [
    "# Model and data preparation\n"
   ]
  },
  {
   "cell_type": "code",
   "execution_count": null,
   "metadata": {},
   "outputs": [],
   "source": [
    "device = torch.device('cuda' if torch.cuda.is_available() else 'cpu')"
   ]
  },
  {
   "cell_type": "code",
   "execution_count": null,
   "metadata": {},
   "outputs": [],
   "source": [
    "ds = load_dataset(\"ghermoso/egtzan_plus\")\n",
    "labels = ds[\"train\"].features[\"label\"].names"
   ]
  },
  {
   "cell_type": "code",
   "execution_count": null,
   "metadata": {},
   "outputs": [],
   "source": [
    "model_path = \"google/vit-base-patch16-224-in21k\"\n",
    "processor = ViTImageProcessor.from_pretrained(model_path).to(device)\n",
    "\n",
    "# Load the model\n",
    "model = ViTForImageClassification.from_pretrained(\n",
    "    model_path,\n",
    "    num_labels=len(labels),\n",
    "    id2label={str(i): c for i, c in enumerate(labels)},\n",
    "    label2id={c: str(i) for i, c in enumerate(labels)},\n",
    ").to(device)"
   ]
  },
  {
   "cell_type": "code",
   "execution_count": null,
   "metadata": {},
   "outputs": [],
   "source": [
    "def transform(example_batch):\n",
    "    \"\"\"Transform the example batch before feeding it to the model.\"\"\"\n",
    "    inputs = processor([x for x in example_batch[\"image\"]], return_tensors=\"pt\")\n",
    "    inputs[\"label\"] = example_batch[\"label\"]\n",
    "    return inputs\n",
    "\n",
    "\n",
    "def collate_fn(batch):\n",
    "    \"\"\"Postprocess the outputs before returning them.\"\"\"\n",
    "    return {\n",
    "        \"pixel_values\": torch.stack([x[\"pixel_values\"] for x in batch]),\n",
    "        \"labels\": torch.tensor([x[\"label\"] for x in batch]),\n",
    "    }\n",
    "\n",
    "\n",
    "metric = load_metric(\"accuracy\")\n",
    "\n",
    "\n",
    "def compute_metrics(p):\n",
    "    \"\"\"Compute the metrics for the Trainer.\"\"\"\n",
    "    return metric.compute(\n",
    "        predictions=np.argmax(p.predictions, axis=1), references=p.label_ids\n",
    "    )"
   ]
  },
  {
   "cell_type": "code",
   "execution_count": null,
   "metadata": {},
   "outputs": [],
   "source": [
    "# Process the dataset with the transform function\n",
    "prepared_ds = ds.with_transform(transform)"
   ]
  },
  {
   "cell_type": "markdown",
   "metadata": {},
   "source": [
    "# Training\n"
   ]
  },
  {
   "cell_type": "code",
   "execution_count": null,
   "metadata": {},
   "outputs": [],
   "source": [
    "training_args = TrainingArguments(\n",
    "    output_dir=\"./vit-eGTZANplus\",  # output directory : change it to your preferred directory\n",
    "    evaluation_strategy=\"steps\",\n",
    "\n",
    "    num_train_epochs=16, # number of training epochs : number of times the model will see the dataset\n",
    "\n",
    "    per_device_train_batch_size=16, # batch size for training  \n",
    "    per_device_eval_batch_size=16, # batch size for evaluation\n",
    "\n",
    "    fp16= True if torch.cuda.is_available() else False, # if cuda is available, use fp16 : faster training\n",
    "\n",
    "    save_steps=10, # save the model every 10 steps\n",
    "    eval_steps=10, # evaluate the model every 10 steps \n",
    "    logging_steps=10, # log the metrics every 10 steps\n",
    "\n",
    "    learning_rate=2e-4, # learning rate: how much the model will learn from the data every step\n",
    "\n",
    "    save_total_limit=2, # number of models to save : save the 2 best models\n",
    "\n",
    "    remove_unused_columns=False, #\n",
    "    push_to_hub=False, # push your model on hugingface hub (needs authentication with notebook_login() from huggingface_hub)\n",
    "    load_best_model_at_end=True, # load the best model at the end of training\n",
    ")\n",
    "\n",
    "# Create the Trainer\n",
    "trainer = Trainer(\n",
    "    model=model,\n",
    "    args=training_args,\n",
    "    data_collator=collate_fn,\n",
    "    compute_metrics=compute_metrics,\n",
    "    train_dataset=prepared_ds[\"train\"],\n",
    "    eval_dataset=prepared_ds[\"test\"],\n",
    "    tokenizer=processor,\n",
    ")"
   ]
  },
  {
   "cell_type": "code",
   "execution_count": null,
   "metadata": {},
   "outputs": [],
   "source": [
    "# Train the model\n",
    "train_results = trainer.train()\n",
    "trainer.save_model()\n",
    "trainer.log_metrics(\"train\", train_results.metrics)\n",
    "trainer.save_metrics(\"train\", train_results.metrics)\n",
    "trainer.save_state()"
   ]
  },
  {
   "cell_type": "markdown",
   "metadata": {},
   "source": [
    "# Evaluate the model\n"
   ]
  },
  {
   "cell_type": "code",
   "execution_count": null,
   "metadata": {},
   "outputs": [],
   "source": [
    "# Evaluate the model\n",
    "metrics = trainer.evaluate(prepared_ds[\"test\"])\n",
    "trainer.log_metrics(\"eval\", metrics)\n",
    "trainer.save_metrics(\"eval\", metrics)"
   ]
  }
 ],
 "metadata": {
  "kernelspec": {
   "display_name": "Python 3",
   "language": "python",
   "name": "python3"
  },
  "language_info": {
   "codemirror_mode": {
    "name": "ipython",
    "version": 3
   },
   "file_extension": ".py",
   "mimetype": "text/x-python",
   "name": "python",
   "nbconvert_exporter": "python",
   "pygments_lexer": "ipython3",
   "version": "undefined.undefined.undefined"
  }
 },
 "nbformat": 4,
 "nbformat_minor": 2
}
